{
 "cells": [
  {
   "cell_type": "markdown",
   "metadata": {},
   "source": [
    "Solicitar al usuario que ingrese dos números y mostrar cuál de los dos es menor. No considerar el caso en que ambos números son iguales."
   ]
  },
  {
   "cell_type": "code",
   "execution_count": 29,
   "metadata": {},
   "outputs": [
    {
     "name": "stdout",
     "output_type": "stream",
     "text": [
      "Vuelva a intentarlo\n"
     ]
    }
   ],
   "source": [
    "num1 = int(input(\"Digite el primer número: \"))\n",
    "num2 = int(input(\"Digite el segundo número; \"))\n",
    "\n",
    "if (num1 < num2):\n",
    "    print(f\"El número {num1} es menor que {num2}\")\n",
    "elif (num2 < num1):\n",
    "    print(f\"El número {num2} es menor que {num1}\")\n",
    "else:\n",
    "    (num1 == num2)\n",
    "    print(\"Vuelva a intentarlo\")\n"
   ]
  },
  {
   "cell_type": "markdown",
   "metadata": {},
   "source": [
    "Solicitar al usuario que ingrese dos números y mostrar cuál de los dos es menor. Considerar el caso en que ambos números son iguales."
   ]
  },
  {
   "cell_type": "code",
   "execution_count": null,
   "metadata": {},
   "outputs": [
    {
     "name": "stdout",
     "output_type": "stream",
     "text": [
      "Los números son iguales\n"
     ]
    }
   ],
   "source": [
    "num1 = int(input(\"Digite el primer número: \"))\n",
    "num2 = int(input(\"Digite el segundo número; \"))\n",
    "\n",
    "if (num1 < num2):\n",
    "    print(f\"El número {num1} es menor que {num2}\")\n",
    "elif (num2 < num1):\n",
    "    print(f\"El número {num2} es menor que {num1}\")\n",
    "else:\n",
    "    (num1 == num2)\n",
    "    print(\"Los números son iguales\")"
   ]
  },
  {
   "cell_type": "markdown",
   "metadata": {},
   "source": [
    "Requerir al usuario que ingrese un día de la semana e imprimir un mensaje si es lunes, otro mensaje diferente si es viernes, otro mensaje diferente si es sábado o domingo. Si el día ingresado no es ninguno de esos, imprimir otro mensaje."
   ]
  },
  {
   "cell_type": "code",
   "execution_count": 5,
   "metadata": {},
   "outputs": [
    {
     "name": "stdout",
     "output_type": "stream",
     "text": [
      "Esperemos que sea viernes\n"
     ]
    }
   ],
   "source": [
    "\n",
    "    \n",
    "dia = input(\"Digite un dia de la semana: \")\n",
    "\n",
    "\n",
    "if dia == \"lunes\":\n",
    "    print(\"Hoy es tu día de suerte\")\n",
    "elif dia == \"viernes\":\n",
    "    print(\"Vamonos de farra\")\n",
    "elif dia == \"sabado\":\n",
    "    print(\"Hoy se repite\")\n",
    "else:\n",
    "    print(\"Esperemos que sea viernes\")\n",
    "    "
   ]
  },
  {
   "cell_type": "markdown",
   "metadata": {},
   "source": [
    "Comidas Rápidas Antoine ofrece hamburguesas vegetarianas y no vegetarianas a sus clientes. Los ingredientes para cada tipo de hamburguesa se muestran a continuación.\n",
    "• Ingredientes vegetarianos: Tomate y tarta de lentejas.\n",
    "• Ingredientes no vegetarianos: Carne, Jamón y Queso.\n",
    "Escribe un programa que pregunte a los usuarios si quieren hamburguesa vegetariana y, en base a sus respuestas, les muestre un menú con los ingredientes disponibles para elegir. Solo puede elegir un ingrediente que no sea la pan y lechuga que se encuentran en todas las hamburguesas. Finalmente, deberás indicar en pantalla si la hamburguesa seleccionada es vegetariana o no y todos los ingredientes que contiene."
   ]
  },
  {
   "cell_type": "code",
   "execution_count": null,
   "metadata": {},
   "outputs": [],
   "source": [
    "def solicitarHamburguesa (tipoHamburguesa):\n",
    "    ingredientesBase = [\"pan\", \"lechuga\"]\n",
    "    vengetarianos = [\"tomate\", \"tarta de lentejas\"]\n",
    "    noVegetarianos = [\"carne\", \"jamón\", \"queso\"]\n",
    "    \n",
    "    if tipoHamburguesa == 1:\n",
    "        print(\"Seleccionaste la hamburguesa vegetariana\")\n",
    "        print(\"Selecciona un ingredinte de la lista: \")\n",
    "        for i in range(len(vengetarianos)):\n",
    "            print((i + 1), \". \", vengetarianos[i])\n",
    "        seleccion = int(input())\n",
    "        print(f\"El cliente eligio una hamburguesa vegetariana \\n con los ingredientes: {ingredientesBase}, ingrediente adicional {vengetarianos[seleccion-1]}\")\n",
    "    \n",
    "    elif tipoHamburguesa == 2:\n",
    "        print(\"Seleccionaste la hamburguesa no vegetariana\")\n",
    "        print(\"Selecciona un ingredinte de la lista: \")\n",
    "        for i in range(len(noVegetarianos)):\n",
    "            print((i + 1), \". \", noVegetarianos[i])\n",
    "        seleccion = int(input())\n",
    "        print(f\"El cliente eligio una hamburguesa no vegetariana \\n con los ingredientes: {ingredientesBase}, ingrediente adicional {noVegetarianos[seleccion-1]}\")  \n",
    "    \n",
    "    else:\n",
    "        print(\"El tipo de hamburguesa seleccionado no es valido\")   \n",
    "           \n",
    "        \n",
    "            \n",
    "print(\"Bienvenido a Rey Burguer.\\nTipos de hamburguesa\\n\\t1- Vegetariana\\n\\t2- No vegetariana\\n\")\n",
    "tipoHamburguesa = int(input())\n",
    "\n",
    "solicitarHamburguesa(tipoHamburguesa)\n"
   ]
  },
  {
   "cell_type": "markdown",
   "metadata": {},
   "source": [
    "Escribir un programa que, dado un número entero, muestre su valor absoluto. Nota: para los números positivos su valor absoluto es igual al número (el valor absoluto de 52 es 52), mientras que, para los negativos, su valor absoluto es el número multiplicado por -1 (el valor absoluto de -52 es 52)."
   ]
  },
  {
   "cell_type": "code",
   "execution_count": 17,
   "metadata": {},
   "outputs": [],
   "source": [
    "numero = int(input(\"Escriba un número entero: \"))\n",
    "\n",
    "if numero <0:\n",
    "    num = numero*-1\n",
    "    print(f\"El valor absoluto es: {numero,num}\")\n",
    "\n"
   ]
  },
  {
   "cell_type": "markdown",
   "metadata": {},
   "source": [
    "Solicitar al usuario que ingrese los nombres de dos personas, los cuales se almacenarán en dos variables. A continuación, imprimir “coincidencia” si los nombres de ambas personas comienzan con la misma letra o si terminan con la misma letra. Si no es así, imprimir “no hay coincidencia”."
   ]
  },
  {
   "cell_type": "code",
   "execution_count": null,
   "metadata": {},
   "outputs": [],
   "source": [
    "nombre1 = input(\"Digite el primer nombre: \")\n",
    "nombre2 = input(\"Digite el segundo nombre: \")\n",
    "\n",
    "letraFinal = len(nombre1)-1\n",
    "letraFinal = len(nombre2)-1\n",
    "\n",
    "if nombre1[0] == nombre2[0] or nombre1[letraFinal] == nombre2[letraFinal]:\n",
    "    print(\"Coincidencia\")\n",
    "else:\n",
    "    print(\"No hay coincidencia\")\n"
   ]
  },
  {
   "cell_type": "markdown",
   "metadata": {},
   "source": [
    "Cree un programa que permita a los usuarios elegir un candidato para votar en las elecciones del representante estudiantil. Las posibilidades son: candidato A por el partido rojo, candidato B por el partido verde, candidato C por el partido verde. Dependiendo del candidato seleccionado (A, B o C), se debe imprimir el mensaje “Usted votó por el partido [color correspondiente al candidato seleccionado]”. Si el usuario ingresa una opción que no corresponde a ninguno de los candidatos disponibles, indicar \"Opción no válida\""
   ]
  },
  {
   "cell_type": "code",
   "execution_count": null,
   "metadata": {},
   "outputs": [],
   "source": [
    "candidato = input(\"escoja su candidato: \\n Candidato A \\n Candidato B \\n Candidato C\\n\")\n",
    "\n",
    "candidato1 = \"A\"\n",
    "candidato2 = \"B\"\n",
    "candidato3 = \"C\"\n",
    "\n",
    "\n",
    "if candidato.upper() == candidato1:\n",
    "    print(\"Ud voto por el candidato rojo\")\n",
    "elif candidato.upper() == candidato2:\n",
    "    print(\"Ud voto por el candidato verde\")\n",
    "elif candidato.upper() == candidato3:\n",
    "    print(\"Ud voto por el candidato naranja\")\n",
    "else:\n",
    "    print(\"Opción no válida\")\n"
   ]
  }
 ],
 "metadata": {
  "kernelspec": {
   "display_name": "Python 3.10.6 64-bit",
   "language": "python",
   "name": "python3"
  },
  "language_info": {
   "codemirror_mode": {
    "name": "ipython",
    "version": 3
   },
   "file_extension": ".py",
   "mimetype": "text/x-python",
   "name": "python",
   "nbconvert_exporter": "python",
   "pygments_lexer": "ipython3",
   "version": "3.10.6"
  },
  "orig_nbformat": 4,
  "vscode": {
   "interpreter": {
    "hash": "aee8b7b246df8f9039afb4144a1f6fd8d2ca17a180786b69acc140d282b71a49"
   }
  }
 },
 "nbformat": 4,
 "nbformat_minor": 2
}
